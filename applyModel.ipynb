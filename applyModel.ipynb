{
 "cells": [
  {
   "cell_type": "markdown",
   "id": "7fca8e4b",
   "metadata": {},
   "source": [
    "### Import Libraries"
   ]
  },
  {
   "cell_type": "code",
   "execution_count": null,
   "id": "171e2cf2",
   "metadata": {},
   "outputs": [],
   "source": [
    "#rom utils.scanData import scan_audiofile\n",
    "from utils.falseNegativeCount import countFN\n",
    "#import matplotlib\n",
    "matplotlib.use('TkAgg')\n",
    "import matplotlib.pyplot as plt\n",
    "import utils.spect as spect\n",
    "import pickle\n",
    "import numpy as np\n",
    "import pandas as pd\n",
    "import os"
   ]
  },
  {
   "cell_type": "markdown",
   "id": "53db8b76",
   "metadata": {},
   "source": [
    "### Define Helpful Functions\n",
    "\n",
    "Here we define functions which will come in handy later."
   ]
  },
  {
   "cell_type": "code",
   "execution_count": null,
   "id": "c33d8721",
   "metadata": {},
   "outputs": [],
   "source": [
    "def plot_grid(X):\n",
    "    \n",
    "    \"\"\"\n",
    "    Plot an array of images in a grid.\n",
    "    \n",
    "    :param X: Array of images\n",
    "    \"\"\"\n",
    "    \n",
    "    num_per_row = 5\n",
    "    rows = np.ceil(len(X) / num_per_row)\n",
    "\n",
    "    plt.ion()\n",
    "    fig = plt.figure(figsize=(5, 5))\n",
    "    for i, image in enumerate(X):\n",
    "        plt.subplot(rows, num_per_row, i + 1)\n",
    "        plt.axis(\"off\")\n",
    "        plt.imshow(image)\n",
    "\n",
    "    plt.subplots_adjust(hspace=0.1, wspace=0.1)\n",
    "    plt.show()"
   ]
  },
  {
   "cell_type": "markdown",
   "id": "d2fd27b6",
   "metadata": {},
   "source": [
    "### Set up File Paths"
   ]
  },
  {
   "cell_type": "code",
   "execution_count": null,
   "id": "7ae3cac5",
   "metadata": {},
   "outputs": [],
   "source": [
    "# Store path to files\n",
    "DATA_PATH = \"E:/2018_sambay/deployment1/1073774637\"\n",
    "\n",
    "# Get list of audio file names\n",
    "audio_files = os.listdir(DATA_PATH)\n",
    "\n",
    "# Directory where results should be stored\n",
    "WRITE_PATH = \"C:/Users/mgoldwater/Desktop/JASASAMBAY\"\n",
    "\n",
    "csv_name = \"results\""
   ]
  },
  {
   "cell_type": "markdown",
   "id": "f77481a6",
   "metadata": {},
   "source": [
    "### Process the Data using the Model"
   ]
  },
  {
   "cell_type": "code",
   "execution_count": null,
   "id": "c3e2624f",
   "metadata": {},
   "outputs": [],
   "source": [
    "for file in audio_files:\n",
    "    if file.split('.')[-1] == \"wav\":\n",
    "        FILE_PATH = os.path.join(DATA_PATH, file)\n",
    "        scan_audiofile(FILE_PATH, WRITE_PATH, 1, csv_name, batch_size=500)"
   ]
  },
  {
   "cell_type": "markdown",
   "id": "cfc62f69",
   "metadata": {},
   "source": [
    "### Load the Identified Multimodal Calls"
   ]
  },
  {
   "cell_type": "code",
   "execution_count": null,
   "id": "6a9bfeb4",
   "metadata": {},
   "outputs": [],
   "source": [
    "calls_df = pd.read_csv(os.path.join(WRITE_PATH, csv_name + \".csv\"))\n",
    "\n",
    "X = []\n",
    "prev_filepath = None\n",
    "\n",
    "for row in range(len(calls_df)):\n",
    "\n",
    "    FILE_PATH = os.path.join(DATA_PATH, calls_df.loc[row].File.split(\"\\\\\")[-1])\n",
    "\n",
    "    # Don't reload the sound file if not necessary\n",
    "    if FILE_PATH != prev_filepath:\n",
    "        prev_filepath = FILE_PATH\n",
    "        Fs_original, samples_norm = spect.get_and_normalize_sound(FILE_PATH)\n",
    "\n",
    "    # Append channel dimension if none already\n",
    "    if len(samples_norm.shape) == 1:\n",
    "        samples_norm = samples_norm[:, np.newaxis]\n",
    "\n",
    "    samples = samples_norm[calls_df.loc[row].StartSample:calls_df.loc[row].EndSample, calls_df.loc[row].Channel - 1]\n",
    "    _, _, Zxx, _ = spect.my_stft(samples, Fs_original, window_N=31, window_overlap=5, NFFT=2 ** 8, DECIMATE_FACTOR=calls_df.loc[row].DecFactor)\n",
    "    Zxx = Zxx[round(Zxx.shape[0] / 2):, :]\n",
    "    freq = freq[:round(len(freq)/2)]\n",
    "    spectro = 10 * np.log10(np.abs(Zxx) ** 2)\n",
    "\n",
    "    # Cut to be 128X128\n",
    "    length = spectro.shape[1]\n",
    "    if length != 128:\n",
    "        spectro = spectro[:, :length - (length - 128)]\n",
    "\n",
    "    X.append(spectro)\n",
    "\n",
    "X = np.asarray(X)"
   ]
  },
  {
   "cell_type": "markdown",
   "id": "fbe61680",
   "metadata": {},
   "source": [
    "Plot some of the results."
   ]
  },
  {
   "cell_type": "code",
   "execution_count": null,
   "id": "278e4665",
   "metadata": {},
   "outputs": [],
   "source": [
    "plot_grid(X[:60])"
   ]
  }
 ],
 "metadata": {
  "kernelspec": {
   "display_name": "Python 3",
   "language": "python",
   "name": "python3"
  },
  "language_info": {
   "codemirror_mode": {
    "name": "ipython",
    "version": 3
   },
   "file_extension": ".py",
   "mimetype": "text/x-python",
   "name": "python",
   "nbconvert_exporter": "python",
   "pygments_lexer": "ipython3",
   "version": "3.8.8"
  }
 },
 "nbformat": 4,
 "nbformat_minor": 5
}
