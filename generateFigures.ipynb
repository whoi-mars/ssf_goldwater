{
 "cells": [
  {
   "cell_type": "markdown",
   "id": "356c2c88",
   "metadata": {},
   "source": [
    "### Import Packages"
   ]
  },
  {
   "cell_type": "code",
   "execution_count": 1,
   "id": "0f30fb08",
   "metadata": {},
   "outputs": [],
   "source": [
    "from matplotlib import pyplot as plt\n",
    "import pandas as pd\n",
    "import numpy as np\n",
    "import os"
   ]
  },
  {
   "cell_type": "markdown",
   "id": "5799e4c2",
   "metadata": {},
   "source": [
    "### NPRW DATA\n",
    "\n",
    "Count the number of manually identified calls"
   ]
  },
  {
   "cell_type": "code",
   "execution_count": 2,
   "id": "6f992322",
   "metadata": {},
   "outputs": [
    {
     "name": "stdout",
     "output_type": "stream",
     "text": [
      "Ground Truth # Calls: 648\n"
     ]
    }
   ],
   "source": [
    "# Path to directories of metadata\n",
    "metadata_path = \"D:/WHOI Storage/data\"\n",
    "\n",
    "# Directories containing the metadata\n",
    "directories = [\"Right_Gunshot_Selections\", \"RightUpsweeps_Selections\"]\n",
    "\n",
    "num_calls = 0\n",
    "\n",
    "for direct in directories:\n",
    "\n",
    "    # Get full path to directory and the files\n",
    "    dir_path = os.path.join(metadata_path, direct)\n",
    "    files = os.listdir(dir_path)\n",
    "\n",
    "    for file in files:\n",
    "\n",
    "        # Get\n",
    "        df = pd.read_csv(os.path.join(dir_path, file), sep='\\t')\n",
    "        df.columns = ['Selection',\n",
    "                      'View',\n",
    "                      'Channel',\n",
    "                      'BeginTime',\n",
    "                      'EndTime',\n",
    "                      'LowFreq',\n",
    "                      'HighFreq',\n",
    "                      'Annotation']\n",
    "\n",
    "        num_calls += len(df)\n",
    "\n",
    "print(\"Ground Truth # Calls:\", num_calls)"
   ]
  },
  {
   "cell_type": "markdown",
   "id": "d8a4013e",
   "metadata": {},
   "source": [
    "Count each category of labeled call: true positive (TP), false positive (FP), false negative (FN), true negative (TN)"
   ]
  },
  {
   "cell_type": "code",
   "execution_count": 4,
   "id": "666cd951",
   "metadata": {},
   "outputs": [
    {
     "name": "stdout",
     "output_type": "stream",
     "text": [
      "FP: 14\n",
      "TP: 55\n",
      "FN: 382\n",
      "TN: 37049\n"
     ]
    }
   ],
   "source": [
    "# Path to the no threshold case\n",
    "no_thresh_path = \"D:/WHOI Storage/scan_results/NPRW/NoThresh\"\n",
    "\n",
    "# Get and count TP/FP\n",
    "df_TP_FP = pd.read_csv(os.path.join(no_thresh_path, \"TP-FP/M2_Right_GunshotSong_And_RightUpsweep.csv\"), index_col=[0])\n",
    "FP = df_TP_FP.groupby(['Label'])[\"Prob\"].count()[0]\n",
    "TP = df_TP_FP.groupby(['Label'])[\"Prob\"].count()[1]\n",
    "\n",
    "print(\"FP: {}\\nTP: {}\".format(FP, TP))\n",
    "\n",
    "# Get and count TN/FN\n",
    "df_TN_FN = pd.read_csv(os.path.join(no_thresh_path, \"TN-FN/M2_Right_GunshotSong_And_RightUpsweep_large.csv\"), index_col=[0])\n",
    "TN = df_TN_FN.groupby(['Label'])[\"Prob\"].count()[4]\n",
    "FN = df_TN_FN.groupby(['Label'])[\"Prob\"].count()[3]\n",
    "\n",
    "print(\"FN: {}\\nTN: {}\".format(FN, TN))"
   ]
  },
  {
   "cell_type": "markdown",
   "id": "baea7859",
   "metadata": {},
   "source": [
    "Define a function that uses a threshold to count the four categories **TP, FP, FN, TN** based on how the CNN's assigned probability compares. This can be used to calculate an Precision-Recall (P-R) Curve, Receiver Operating Characteristic (ROC) curve, etc."
   ]
  },
  {
   "cell_type": "code",
   "execution_count": 5,
   "id": "7cf2bafe",
   "metadata": {},
   "outputs": [],
   "source": [
    "def TP_FP_Thresh(path, thresh):\n",
    "    \n",
    "    # Read the dataframe\n",
    "    df_TP_FP = pd.read_csv(path, index_col=[0])\n",
    "\n",
    "    df_TP = df_TP_FP.query(\"(Prob >= {} and Label == 1) or (Prob >= {} and Label == 3)\".format(thresh, thresh))\n",
    "    TP = len(df_TP)\n",
    "\n",
    "    df_FP = df_TP_FP.query(\"(Prob >= {} and Label == 0) or (Prob >= {} and Label == 4)\".format(thresh, thresh))\n",
    "    FP = len(df_FP)\n",
    "\n",
    "    df_FN = df_TP_FP.query(\"(Prob <= {} and Label == 1) or (Prob <= {} and Label == 3)\".format(thresh, thresh))\n",
    "    FN = len(df_FN)\n",
    "\n",
    "    df_TN = df_TP_FP.query(\"(Prob <= {} and Label == 0) or (Prob <= {} and Label == 4)\".format(thresh, thresh))\n",
    "    TN = len(df_TN)\n",
    "\n",
    "    return TP, FP, TN, FN\n",
    "\n",
    "step = 0.01\n",
    "TPR_list = list()\n",
    "FPR_list = list()\n",
    "TP_list = list()\n",
    "TP_FP_list = list()\n",
    "precision_list = list()\n",
    "recall_list = list()\n",
    "for thresh in np.arange(0.01, 1, step):\n",
    "    \n",
    "    TP1, FP1, TN1, FN1 = TP_FP_Thresh(os.path.join(no_thresh_path, \"TP-FP/M2_Right_GunshotSong_And_RightUpsweep.csv\"), thresh)\n",
    "    TP2, FP2, TN2, FN2 = TP_FP_Thresh(os.path.join(no_thresh_path, \"TN-FN/M2_Right_GunshotSong_And_RightUpsweep_large.csv\"), thresh)\n",
    "    \n",
    "    TP = TP1 + TP2\n",
    "    FP = FP1 + FP2\n",
    "    TN = TN1 + TN2\n",
    "    FN = FN1 + FN2\n",
    "    \n",
    "    TPR = (TP)/(TP + FN)\n",
    "    FPR = (FP)/(FP + TN)\n",
    "    \n",
    "    TPR_list.append(TPR)\n",
    "    FPR_list.append(FPR)\n",
    "    #\n",
    "    # TP_list.append(TP)\n",
    "    # TP_FP_list.append(TP + FP)\n",
    "    #\n",
    "    precision = (TP)/(TP + FP)\n",
    "    recall = (TP)/(TP + FN)\n",
    "\n",
    "    #precision = TP / (TP + FP)\n",
    "    #recall = TP / num_calls\n",
    "\n",
    "    precision_list.append(precision)\n",
    "    recall_list.append(recall)"
   ]
  },
  {
   "cell_type": "markdown",
   "id": "f8e6dbe1",
   "metadata": {},
   "source": [
    "Plot the Precision-Recall Curve"
   ]
  },
  {
   "cell_type": "code",
   "execution_count": 6,
   "id": "de5c91ce",
   "metadata": {},
   "outputs": [
    {
     "data": {
      "image/png": "[encoded data removed]",
      "text/plain": [
       "<Figure size 432x288 with 1 Axes>"
      ]
     },
     "metadata": {
      "needs_background": "light"
     },
     "output_type": "display_data"
    }
   ],
   "source": [
    "plt.plot(recall_list, precision_list, '-o', markersize=2.5)\n",
    "plt.grid()\n",
    "plt.xlabel(\"Recall\")\n",
    "plt.ylabel(\"Precision\")\n",
    "plt.savefig(\"D:/PR.png\")"
   ]
  },
  {
   "cell_type": "code",
   "execution_count": 7,
   "id": "2a86e707",
   "metadata": {},
   "outputs": [
    {
     "data": {
      "text/plain": [
       "Text(0, 0.5, 'True Positive Rate')"
      ]
     },
     "execution_count": 7,
     "metadata": {},
     "output_type": "execute_result"
    },
    {
     "data": {
      "image/png": "[encoded data removed]",
      "text/plain": [
       "<Figure size 432x288 with 1 Axes>"
      ]
     },
     "metadata": {
      "needs_background": "light"
     },
     "output_type": "display_data"
    }
   ],
   "source": [
    "plt.plot(FPR_list, TPR_list, '-o', markersize=2.5)\n",
    "plt.grid()\n",
    "plt.xlabel(\"False Positive Rate\")\n",
    "plt.ylabel(\"True Positive Rate\")"
   ]
  },
  {
   "cell_type": "markdown",
   "id": "a42bfbbd",
   "metadata": {},
   "source": [
    "Historgrams of the probabilities of TP and TN. This helps to visualize how confident the CNN is that a call is or is not a gunshot."
   ]
  },
  {
   "cell_type": "code",
   "execution_count": 26,
   "id": "74e148ef",
   "metadata": {},
   "outputs": [],
   "source": [
    "df_all = pd.concat([df_TP_FP, df_TN_FN], ignore_index=True)"
   ]
  },
  {
   "cell_type": "code",
   "execution_count": 32,
   "id": "d072584a",
   "metadata": {},
   "outputs": [
    {
     "data": {
      "text/plain": [
       "Text(0, 0.5, 'Count of Specrograms')"
      ]
     },
     "execution_count": 32,
     "metadata": {},
     "output_type": "execute_result"
    },
    {
     "data": {
      "image/png": "[encoded data removed]",
      "text/plain": [
       "<Figure size 432x288 with 1 Axes>"
      ]
     },
     "metadata": {
      "needs_background": "light"
     },
     "output_type": "display_data"
    }
   ],
   "source": [
    "plt.hist(df_all.query(\"Label == 1\").Prob)\n",
    "plt.xlim([0, 1.0])\n",
    "plt.xlabel(\"Predicted Probability\")\n",
    "plt.ylabel(\"Count of Specrograms\")"
   ]
  }
 ],
 "metadata": {
  "kernelspec": {
   "display_name": "Python 3",
   "language": "python",
   "name": "python3"
  },
  "language_info": {
   "codemirror_mode": {
    "name": "ipython",
    "version": 3
   },
   "file_extension": ".py",
   "mimetype": "text/x-python",
   "name": "python",
   "nbconvert_exporter": "python",
   "pygments_lexer": "ipython3",
   "version": "3.8.8"
  }
 },
 "nbformat": 4,
 "nbformat_minor": 5
}
